{
 "cells": [
  {
   "cell_type": "markdown",
   "metadata": {},
   "source": [
    "# Problem: Max-Distance Sub-Sequence"
   ]
  },
  {
   "cell_type": "markdown",
   "metadata": {},
   "source": [
    "## Description\n",
    "Given N elements (2≤ N ≤100,000) on a straight line at positions x1,..., xN (0≤ xi ≤1,000,000,000).  \n",
    "The distance of a subset of N elements is defined to be the minimum distance between two elements.  \n",
    "Find the subset of N given elements containing exactly C elements such that the distance is maximal."
   ]
  },
  {
   "cell_type": "markdown",
   "metadata": {},
   "source": [
    "## Input\n",
    "- The first line contains a positive integer T (1 <= T <= 20) which is the number of test cases. \n",
    "- Subsequent lines are T test cases with the following format:\n",
    "    - Line 1: Two space-separated integers: N and C\n",
    "    - Lines 2: contains  x1, x2, ..., xN"
   ]
  },
  {
   "cell_type": "markdown",
   "metadata": {},
   "source": [
    "## Output \n",
    "For each test case output one integer: the distance of the subset found."
   ]
  },
  {
   "cell_type": "markdown",
   "metadata": {},
   "source": [
    "## Example\n",
    "**input**  \n",
    "1  \n",
    "5 3  \n",
    "1  \n",
    "2  \n",
    "8  \n",
    "4  \n",
    "9  \n",
    "**output**  \n",
    "3  "
   ]
  },
  {
   "cell_type": "markdown",
   "metadata": {},
   "source": [
    "### Explain\n",
    "Jonh can put his 3 cows in the stalls at positions 1, 4 and 8, resulting in a minimum distance of 3."
   ]
  },
  {
   "cell_type": "markdown",
   "metadata": {},
   "source": [
    "### Tiếng việt:\n",
    "Cho N phần tử (2< N <100000) nằm trên đường thẳng tại các vị trí x1, x2, ..., xN (0≤ xi ≤10^9).  \n",
    "Distance của tập hợp con gồm N phần tử được định nghĩa là distace nhỏ nhất giữa 2 phần tử.  \n",
    "Tìm tập con của N phần tử đã cho chứa chính xác C phần tử sao cho distance là lớn nhất."
   ]
  },
  {
   "cell_type": "markdown",
   "metadata": {},
   "source": [
    "## Phương pháp giải: Tìm kiếm nhị phân"
   ]
  },
  {
   "cell_type": "markdown",
   "metadata": {},
   "source": [
    "<img src=\"image.png\" width=\"500\">  "
   ]
  },
  {
   "cell_type": "markdown",
   "metadata": {},
   "source": [
    "***Ý tưởng:*** tìm giá trị dis mà thỏa mãn có >= C phần tử đáp ứng dis đó, và cứ tăng dần dis để kiểm tra để tìm được dis max\n",
    "- Ta sẽ xét như ví vụ trên, bước đầu sắp xếp dãy theo thứ tự tăng dần\n",
    "- Tìm dis max (15) đặt là right và lấy dis min là 0 (TH có số giống nhau) đặt là left\n",
    "- Chia ra thành 2 phần, xét \n",
    "    - Nếu phần bên phải tm thì lấy ans = mid và xét tiếp mid + 1 đến right (xét tiếp nửa phải)\n",
    "    - Nếu phần bên phải không tm thì lấy từ left đến mid - 1 (xét tiếp nửa trái)\n",
    "- Chương trình kết thúc khi phần left > right\n"
   ]
  }
 ],
 "metadata": {
  "language_info": {
   "name": "python"
  }
 },
 "nbformat": 4,
 "nbformat_minor": 2
}
