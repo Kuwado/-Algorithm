{
 "cells": [
  {
   "cell_type": "markdown",
   "metadata": {},
   "source": [
    "# Problem: Telco"
   ]
  },
  {
   "cell_type": "markdown",
   "metadata": {},
   "source": [
    "## Description\n",
    "There are n passengers 1, 2, …, n.  \n",
    "The passenger i want to travel from point i to point i + n (i = 1, 2, …, n).  \n",
    "There is a taxi located at point 0 for transporting the passengers.  \n",
    "Given the distance matrix c(2n+1)*(2n+1) in which c(i,j) is the traveling distance from point i to point j (i, j = 0, 1, …, 2n).  \n",
    "Compute the shortest route for the taxi, serving n passengers and coming back to point 0 such that at any moment, there is no more than one passenger in the taxi, and no point is visited more than once (except for point 0, which can be visited up to twice)."
   ]
  },
  {
   "cell_type": "markdown",
   "metadata": {},
   "source": [
    "## Input\n",
    "- Line 1: contains n (1 ≤ n ≤ 11).\n",
    "- Line i+1 (i = 1, 2,…, 2n+1) contains the ith line of the matrix c."
   ]
  },
  {
   "cell_type": "markdown",
   "metadata": {},
   "source": [
    "## Output \n",
    "- Unique line contains the length of the shortest route."
   ]
  },
  {
   "cell_type": "markdown",
   "metadata": {},
   "source": [
    "## Example\n",
    "**input**  \n",
    "2  \n",
    "0 8 5 1 10  \n",
    "5 0 9 3 5  \n",
    "6 6 0 8 2  \n",
    "2 6 3 0 7  \n",
    "2 5 3 4 0  \n",
    "**output**  \n",
    "17"
   ]
  },
  {
   "cell_type": "markdown",
   "metadata": {},
   "source": [
    "### Explain\n",
    "No"
   ]
  },
  {
   "cell_type": "markdown",
   "metadata": {},
   "source": [
    "### Tiếng việt:\n",
    "Có n hành khách 1, 2, …, n.  \n",
    "Hành khách i muốn đi từ điểm i đến điểm i + n (i = 1, 2, …, n).  \n",
    "Có một chiếc taxi nằm ở điểm 0 để vận chuyển hành khách.  \n",
    "Cho ma trận khoảng cách c(2n+1)*(2n+1) trong đó c(i,j) là khoảng cách đi được từ điểm i đến điểm j (i, j = 0, 1, …, 2n).  \n",
    "Tính đường đi ngắn nhất cho xe taxi, phục vụ n hành khách và quay trở lại điểm 0 sao cho tại bất kỳ thời điểm nào, trên xe không có nhiều hơn một hành khách và không có điểm nào được ghé thăm nhiều hơn một lần (ngoại trừ điểm 0, có thể được truy cập tối đa hai lần)."
   ]
  },
  {
   "cell_type": "markdown",
   "metadata": {},
   "source": [
    "## Phương pháp giải: Sử dụng map và pair"
   ]
  },
  {
   "cell_type": "markdown",
   "metadata": {},
   "source": [
    "***Ý tưởng:*** Tạo map lưu trữ thông tin từng số điện thoại gồm\n",
    "- Số điện thoại\n",
    "- Cặp phần tử:\n",
    "    - Số lần gọi\n",
    "    - Số thời gian gọi\n",
    "    \n",
    "--> Với map, việc truy cập trực tiếp đến phần tử cần xét sẽ nhanh hơn (key và value)"
   ]
  }
 ],
 "metadata": {
  "language_info": {
   "name": "python"
  }
 },
 "nbformat": 4,
 "nbformat_minor": 2
}
