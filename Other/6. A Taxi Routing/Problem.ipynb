{
 "cells": [
  {
   "cell_type": "markdown",
   "metadata": {},
   "source": [
    "# Problem: Telco"
   ]
  },
  {
   "cell_type": "markdown",
   "metadata": {},
   "source": [
    "## Description\n",
    "The first block of data consists of lines (terminated by a line containing #), each line (number of lines can be up to 100000) is under the form:   \n",
    "**call < from_number > < to_number > < date > < from_time > < end_time >**  \n",
    "which is a call from the phone number < from_number > to a phone number < to_number > on < date >, and starting at time-point < from_time >, terminating at time-point < end_time >  \n",
    "- < from_number > and < to_number > are string of 10 characters (a phone number is correct if it contains only digits 0,1,...,9, otherwise, the phone number is incorrect)  \n",
    "- < date > is under the form YYYY-MM-DD (for example 2022-10-21)\n",
    "- < from_time > and < to_time > are under the form hh:mm:ss (for example, 10:07:23)\n",
    " \n",
    "The second block consists of queries (terminated by a line containing #), each query in a line (number of lines can be up to 100000) and belongs to one of the following types:  \n",
    "- ?check_phone_number: print to stdout (in a new line) value 1 if no phone number is incorrect\n",
    "- ?number_calls_from < phone_number >: print to stdout (in a new line) the number of times a call is made from < phone_number >\n",
    "- ?number_total_calls: print to stdout (in a new line) the total number of calls of the data\n",
    "- ?count_time_calls_from < phone_number >: print to stdout (in a new line) the total time duration (in seconds) the calls are made from < phone_number >"
   ]
  },
  {
   "cell_type": "markdown",
   "metadata": {},
   "source": [
    "## Input\n"
   ]
  },
  {
   "cell_type": "markdown",
   "metadata": {},
   "source": [
    "## Output \n"
   ]
  },
  {
   "cell_type": "markdown",
   "metadata": {},
   "source": [
    "## Example\n",
    "**input**  \n",
    "call 0912345678 0132465789 2022-07-12 10:30:23 10:32:00  \n",
    "call 0912345678 0945324545 2022-07-13 11:30:10 11:35:11  \n",
    "call 0132465789 0945324545 2022-07-13 11:30:23 11:32:23  \n",
    "call 0945324545 0912345678 2022-07-13 07:30:23 07:48:30  \n",
    "\\#  \n",
    "?check_phone_number  \n",
    "?number_calls_from 0912345678  \n",
    "?number_total_calls  \n",
    "?count_time_calls_from 0912345678  \n",
    "?count_time_calls_from 0132465789  \n",
    "\\#  \n",
    "**output**  \n",
    "1  \n",
    "2  \n",
    "4  \n",
    "398  \n",
    "120  "
   ]
  },
  {
   "cell_type": "markdown",
   "metadata": {},
   "source": [
    "### Explain\n",
    "No"
   ]
  },
  {
   "cell_type": "markdown",
   "metadata": {},
   "source": [
    "### Tiếng việt:\n",
    "Khối dữ liệu đầu tiên gồm các dòng (kết thúc bằng một dòng chứa dấu #), mỗi dòng (số dòng có thể lên tới 100000) có dạng:  \n",
    "**call < from_number > < to_number > < date > < from_time > < end_time >**  \n",
    "đó là cuộc gọi từ số điện thoại < from_number > đến số điện thoại < to_number > vào ngày < date > và bắt đầu tại thời điểm < from_time >, kết thúc tại thời điểm < end_time >  \n",
    "- < from_number > và < to_number > là chuỗi 10 ký tự (số điện thoại là đúng nếu chỉ chứa các chữ số 0,1,...,9, nếu không thì sai)\n",
    "- < date > có dạng YYYY-MM-DD (ví dụ 2022-10-21)\n",
    "- < from_time > và < to_time > có dạng hh:mm:ss (ví dụ: 23:10:07)\n",
    " \n",
    "Khối thứ hai bao gồm các truy vấn (kết thúc bằng một dòng chứa #), mỗi truy vấn trong một dòng (số dòng có thể lên tới 100000) và thuộc một trong các loại sau:\n",
    "- ?check_phone_number: in ra stdout (trong một dòng mới) giá trị 1 nếu không có số điện thoại nào sai\n",
    "- ?number_calls_from < phone_number >: in ra stdout (trong một dòng mới) số lần thực hiện cuộc gọi từ < phone_number >\n",
    "- ?number_total_calls: in ra stdout (trong một dòng mới) tổng số cuộc gọi\n",
    "- ?count_time_calls_from < phone_number >: in ra stdout (trong một dòng mới) tổng thời lượng (tính bằng giây) các cuộc gọi được thực hiện từ < phone_number >"
   ]
  },
  {
   "cell_type": "markdown",
   "metadata": {},
   "source": [
    "## Phương pháp giải: Sử dụng map và pair"
   ]
  },
  {
   "cell_type": "markdown",
   "metadata": {},
   "source": [
    "***Ý tưởng:*** Tạo map lưu trữ thông tin từng số điện thoại gồm\n",
    "- Số điện thoại\n",
    "- Cặp phần tử:\n",
    "    - Số lần gọi\n",
    "    - Số thời gian gọi\n",
    "    \n",
    "--> Với map, việc truy cập trực tiếp đến phần tử cần xét sẽ nhanh hơn (key và value)"
   ]
  }
 ],
 "metadata": {
  "language_info": {
   "name": "python"
  }
 },
 "nbformat": 4,
 "nbformat_minor": 2
}
