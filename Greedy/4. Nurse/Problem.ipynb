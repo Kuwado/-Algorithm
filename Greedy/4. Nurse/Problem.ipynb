{
 "cells": [
  {
   "cell_type": "markdown",
   "metadata": {},
   "source": [
    "# Problem: Nurse"
   ]
  },
  {
   "cell_type": "markdown",
   "metadata": {},
   "source": [
    "## Description\n",
    "The director of a hospital want to schedule a working plan for a nurse in a given period of N consecutive days 1,..., N.  \n",
    "Due to the policy of the hospital, each nurse cannot work all the days 1,..., N.  \n",
    "Instead, there must be days off in which the nurse need to take a rest.  \n",
    "A working plan is a sequence of disjoint working periods.  \n",
    "A working period of a nurse is defined to be a sequence of consecutive days on which the nurse must work and the length of the working period is the number of consecutive days of that working period.  \n",
    "The hospital imposes two constraints:\n",
    "- Each nurse can take a rest only one day between two consecutive working periods. it means that if the nurse takes a rest today, then she has to work tomorrow (1)  \n",
    "- The length of each working period must be greater or equal to K1 and less than or equal to K2 (2)   \n",
    "\n",
    "The director of the hospital want to know how many possible working plans satisfying above constraint?\t"
   ]
  },
  {
   "cell_type": "markdown",
   "metadata": {},
   "source": [
    "## Input\n",
    "- The input consists of one line which contains 3 positive integers N, K1, K2 (2 <= N <=  1000, K1 < K2 <= 400)"
   ]
  },
  {
   "cell_type": "markdown",
   "metadata": {},
   "source": [
    "## Output \n",
    "- The output consists of only one single integer M modulo 10^9+7 where M is the total working plans satisfying the above constraints."
   ]
  },
  {
   "cell_type": "markdown",
   "metadata": {},
   "source": [
    "## Example\n",
    "**input**  \n",
    "6 2 3  \n",
    "**output**  \n",
    "4"
   ]
  },
  {
   "cell_type": "markdown",
   "metadata": {},
   "source": [
    "### Explain\n",
    "No"
   ]
  },
  {
   "cell_type": "markdown",
   "metadata": {},
   "source": [
    "### Tiếng việt:\n",
    "Giám đốc một bệnh viện muốn sắp xếp kế hoạch làm việc của y tá trong khoảng thời gian N ngày liên tục 1, ..., N.  \n",
    "Do chính sách của bệnh viện nên mỗi y tá không thể làm việc cả ngày 1, ..., N.  \n",
    "Thay vào đó, phải có những ngày nghỉ để y tá cần nghỉ ngơi.  \n",
    "Kế hoạch làm việc là một chuỗi các giai đoạn làm việc rời rạc.  \n",
    "Thời gian làm việc của y tá được xác định là dãy ngày liên tục mà y tá làm việc và thời gian làm việc là số ngày liên tục của thời gian làm việc đó.\n",
    "Bệnh viện áp đặt hai hạn chế:\n",
    "- Mỗi điều dưỡng viên chỉ được nghỉ một ngày giữa hai đợt làm việc liên tiếp. nghĩa là hôm nay y tá nghỉ thì ngày mai phải đi làm (1)\n",
    "- Độ dài mỗi kỳ công tác phải lớn hơn hoặc bằng K1 và nhỏ hơn hoặc bằng K2 (2)\n",
    "\n",
    "Giám đốc bệnh viện muốn biết có bao nhiêu phương án làm việc có thể thỏa mãn ràng buộc trên?"
   ]
  },
  {
   "cell_type": "markdown",
   "metadata": {},
   "source": [
    "## Phương pháp giải: Tham lam"
   ]
  },
  {
   "cell_type": "markdown",
   "metadata": {},
   "source": [
    "<img src=\"image.png\" width=\"500\">  "
   ]
  },
  {
   "cell_type": "markdown",
   "metadata": {},
   "source": [
    "***Ý tưởng:*** "
   ]
  }
 ],
 "metadata": {
  "language_info": {
   "name": "python"
  }
 },
 "nbformat": 4,
 "nbformat_minor": 2
}
