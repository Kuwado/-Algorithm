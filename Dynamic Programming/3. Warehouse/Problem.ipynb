{
 "cells": [
  {
   "cell_type": "markdown",
   "metadata": {},
   "source": [
    "# Problem: Warehouse"
   ]
  },
  {
   "cell_type": "markdown",
   "metadata": {},
   "source": [
    "## Description\n",
    "A truck is planned to arrive at some stations among N stations 1, 2, ..., N located on a line. Station i (i = 1, 2, ..., N) has coordinate i and has following information  \n",
    "- ai : amount of goods  \n",
    "- ti : pickup time duration for taking goods\n",
    "\n",
    "The route of the truck is a sequence of stations x1 < x2 < . . . < xk (1 ≤ xj ≤ N, j = 1,…, k). Due to technical constraints, the distance between two consecutive stations that the truck arrives xi and xi+1 is less than or equal to D and the total pickup time duration cannot exceed T.   \n",
    "Find a route for the truck such that total amount of goods picked up is maximal."
   ]
  },
  {
   "cell_type": "markdown",
   "metadata": {},
   "source": [
    "## Input\n",
    "- Line 1: N, T, D (1 <= N <= 1000, 1 <= T <= 100, 1 <= D <= 10)\n",
    "- Line 2: a1, a2, ..., aN (1 <= ai <= 10)  \n",
    "- Line 3: t1, t2, ..., tN (1 <= ti <= 10)  "
   ]
  },
  {
   "cell_type": "markdown",
   "metadata": {},
   "source": [
    "## Output \n",
    "Write the total amount of goods that the truck picks up in the route."
   ]
  },
  {
   "cell_type": "markdown",
   "metadata": {},
   "source": [
    "## Example\n",
    "**input**  \n",
    "6 6 2  \n",
    "6 8 5 10 11 6  \n",
    "1 2 2 3 3 2  \n",
    "**output**  \n",
    "24"
   ]
  },
  {
   "cell_type": "markdown",
   "metadata": {},
   "source": [
    "### Explain\n",
    "No"
   ]
  },
  {
   "cell_type": "markdown",
   "metadata": {},
   "source": [
    "### Tiếng việt:\n",
    "Vương quốc ALPHA có n kho vàng nằm trên một đường thẳng và được đánh số 1, 2,..., n.  \n",
    "Kho i có số lượng vàng ai (ai là số nguyên không âm) và nằm ở tọa độ i (i=1,...,n). \n",
    "Vua ALPHA mở ra một cuộc thi dành cho những thợ săn có nhiệm vụ tìm ra ***tập con*** kho vàng có ***tổng số vàng lớn nhất*** với điều kiện khoảng cách giữa 2 kho được chọn phải lớn hơn hoặc bằng L1 và nhỏ hơn hoặc bằng L2."
   ]
  },
  {
   "cell_type": "markdown",
   "metadata": {},
   "source": [
    "## Phương pháp giải: Quy hoạch động"
   ]
  },
  {
   "cell_type": "markdown",
   "metadata": {},
   "source": [
    "<img src=\"image.png\" width=\"500\">  "
   ]
  },
  {
   "cell_type": "markdown",
   "metadata": {},
   "source": [
    "***Ý tưởng:*** Tạo mảng quy hoạch động dp[ i ][ k ] lưu số hàng tối đa khi đi từ 1 -> i với thời gian <= k và phải đi qua kho i.  \n",
    "- Nếu k < t[ i ] thì dp[ i ][ k ] = 0. ( Vì phải đi qua kho i nên thời gian phải >= t[ i ] )  \n",
    "- Nếu k >= t[ i ]:\n",
    "    - Xét j từ i-D đến i-1 (i-D > 0) => dp[ i ][ k ] = max( dp[ j ][ k - t[i] ]) + a[ i ] = F[ i ][ k - t[i] ] + a[ i ]. < Sau khi chọn kho i thì tìm đường đi tốt nhất trong thời gian k >\n",
    "    - Sau khi hoàn thành dp[ i ][ T ] sẽ là cột số hàng tối đa tương ứng khi đi qua kho i.\n",
    "    --> Đáp án là max của cột đấy\n",
    "- Chi tiết:\n",
    "    - Với i = 1: t[ 1 ] = 1 => dp[ 1 ][ 1 ] = a[ 1 ] = 6; Vì là mốc đầu tiên => các khoảng thời gian còn lại cũng đều bằng a[ 1 ].\n",
    "    - Với i = 2: t[ 2 ] = 2 => dp[ 2 ][ 1 ] = 0 và dp[ 2 ][ 2 ] = a[ 2 ] = 8. Ở đây j = 1 => F[ i ][ k - t[i] ] = dp[ 1 ][ k - t[i] ] = 6 => dp[ 2 ][ 3 ] = dp[ 1 ][ 3 - 2 ] + a[ 2 ] = 6 + 8 =14. Tương tự ...\n",
    "    - Với i = 3: t[ 3 ] = 2 => dp[ 3 ][ 1 ] = 0 và dp[ 3 ][ 2 ] = a[ 3 ] = 5. Ở đây j = 1, 2 => F[ i ][ k - t[i] ] = max dp[ j ][ k - t[i] ]. Xét k = 3 thì F[ 3 ][ 3 - 2 ] = dp[ 1 ][ 3 - 2] = 6 ( 6 > 0 ). Khi này dp[ 3 ][ 3 ] = F[ 3 ][ 3 - 2] + a[ 3 ] = 6 + 5 = 11\n",
    "    - Tương tự ..."
   ]
  }
 ],
 "metadata": {
  "language_info": {
   "name": "python"
  }
 },
 "nbformat": 4,
 "nbformat_minor": 2
}
