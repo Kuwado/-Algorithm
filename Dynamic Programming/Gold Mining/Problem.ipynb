{
 "cells": [
  {
   "cell_type": "markdown",
   "metadata": {},
   "source": [
    "# Problem: Gold Mining"
   ]
  },
  {
   "cell_type": "markdown",
   "metadata": {},
   "source": [
    "## Description\n",
    "The Kingdom ALPHA has n warehouses of golds located on a straight line and are numbered 1, 2,..., n.  \n",
    "The warehouse i has amount of ai (ai is non-negative integer) and is located at coordinate i (i=1,...,n).  \n",
    "The King of ALPHA opens a competition for hunters who are responsible to find a subset of gold warehouses having largest total amount of golds with respect to the condition that the distance between two selected warehouses must be greater than or equal to L1 and less than or equal to L2."
   ]
  },
  {
   "cell_type": "markdown",
   "metadata": {},
   "source": [
    "## Input\n",
    "- Line 1 contains n, L1, and L2 (1≤n≤1000000,1≤L1≤L2≤n)\n",
    "- Line 2 contains n integers a1, a2, ..., an\n"
   ]
  },
  {
   "cell_type": "markdown",
   "metadata": {},
   "source": [
    "## Output \n",
    "Contains only one single integer denoting the total amount of golds of selected warehouses."
   ]
  },
  {
   "cell_type": "markdown",
   "metadata": {},
   "source": [
    "## Example\n",
    "**input**  \n",
    "6 2 3  \n",
    "3 5 9 6 7 4  \n",
    "**output**  \n",
    "19"
   ]
  },
  {
   "cell_type": "markdown",
   "metadata": {},
   "source": [
    "### Explain\n",
    "No"
   ]
  },
  {
   "cell_type": "markdown",
   "metadata": {},
   "source": [
    "### Tiếng việt:\n",
    "Vương quốc ALPHA có n kho vàng nằm trên một đường thẳng và được đánh số 1, 2,..., n.  \n",
    "Kho i có số lượng vàng ai (ai là số nguyên không âm) và nằm ở tọa độ i (i=1,...,n). \n",
    "Vua ALPHA mở ra một cuộc thi dành cho những thợ săn có nhiệm vụ tìm ra ***tập con*** kho vàng có ***tổng số vàng lớn nhất*** với điều kiện khoảng cách giữa 2 kho được chọn phải lớn hơn hoặc bằng L1 và nhỏ hơn hoặc bằng L2."
   ]
  },
  {
   "cell_type": "markdown",
   "metadata": {},
   "source": [
    "## Phương pháp giải: Quy hoạch động kết hợp hàng đợi 2 chiều (Deque)"
   ]
  },
  {
   "cell_type": "markdown",
   "metadata": {},
   "source": [
    "<img src=\"image1.png\" width=\"500\">  "
   ]
  },
  {
   "cell_type": "markdown",
   "metadata": {},
   "source": [
    "***Ý tưởng:*** Tạo mảng quy hoạch động dp lưu các giá trị tối ưu của ô ở vị trí i ( khi đó dp[i] sẽ xét trong TH giả sử i là ô cuối cùng và trong dãy con chắc chắn có i )  \n",
    "- Với i <= L1 dp[ i ] = a[ i ]  \n",
    "- Với i > L1: Khi đấy dp[ i ] = max(dp[ j ]) + a[ i ]; với i-L2 <= j <= i-L1 và j > 0; đặt F[ i ] = max(dp[ j ])  \n",
    "    - Với i = 4  => j = 1 => F[ 4 ] = dp[ 1 ] = 5  \n",
    "    - Với i = 5  => j = 1, 2 => F[ 5 ] = max( dp[ 1 ], dp[ 2 ] ) = dp[ 1 ] = 5  \n",
    "    - Với i = 6  => j = 1, 2, 3 => F[ 6 ] = max( dp[ 1 ], dp[ 2 ], dp[ 3 ] ) = dp[ 1 ] = 5  \n",
    "    - Với i = 7  => j = 2, 3, 4 => F[ 7 ] = max( dp[ 2 ], dp[ 3 ], dp[ 4 ] ) = dp[ 4 ] = 13  \n",
    "    - Với i = 8  => j = 3, 4, 5 => F[ 8 ] = max( dp[ 3 ], dp[ 4 ], dp[ 5 ] ) = dp[ 4 ] = 13  \n",
    "    - Với i = 9  => j = 4, 5, 6 => F[ 9 ] = max( dp[ 4 ], dp[ 5 ], dp[ 6 ] ) = dp[ 4 ] = 13  \n",
    "    - Với i = 10 => j = 5, 6, 7 => F[ 10 ] = max( dp[ 5 ], dp[ 6 ], dp[ 7 ] ) = dp[ 7 ] = 22  "
   ]
  },
  {
   "cell_type": "markdown",
   "metadata": {},
   "source": [
    "<img src=\"image2.png\" width=\"500\">  "
   ]
  },
  {
   "cell_type": "markdown",
   "metadata": {},
   "source": [
    "***Hàng đợi 2 chiều***: Tối ưu hóa khả năng tìm max trong các khoảng của một dãy , luôn cho phần tử max ở đầu deque\n",
    "- Sử dụng deque để tìm F[ i ]  \n",
    "- F[ i ] bắt đầu từ i = L1 + 1 => deque sẽ cần xét đến index = n - L1  \n",
    "- Ta sẽ thêm lần lượt cặp i và dp[ i ] vào phần sau của deque, trước khi push xóa tất cả phần tử có dp bé hơn dp[ i ]  \n",
    "- Nếu i - L2 > index của đầu deque, ta loại bỏ phần tử đầu ( đảm bảo xét được max trong khoảng i-L2 đến i-L1 )  \n",
    "- Cách vận hành:\n",
    "    - i = 1: Thêm vào sau  \n",
    "    - i = 2: dp[ 2 ] < dp[ 1 ] => Thêm vào sau  \n",
    "    - i = 3: dp[ 3 ] > dp[ 2 ] => Xóa i = 2 rồi thêm vào sau  \n",
    "    - i = 4: dp[ 4 ] > dp[ 3 ] và > dp[ 1 ] => Xóa i = 3 và i = 1 rồi thêm vào sau  \n",
    "    - i = 5: dp[ 5 ] < dp[ 4 ] => Thêm vào sau  \n",
    "    - i = 6: dp[ 6 ] < dp[ 5 ] => Thêm vào sau\n",
    "    - i = 7: dp[ 7 ] > cả dp[ 4, 5, 6] => xóa i = 4, 5, 6 rồi thêm vào sau\n"
   ]
  }
 ],
 "metadata": {
  "language_info": {
   "name": "python"
  }
 },
 "nbformat": 4,
 "nbformat_minor": 2
}
