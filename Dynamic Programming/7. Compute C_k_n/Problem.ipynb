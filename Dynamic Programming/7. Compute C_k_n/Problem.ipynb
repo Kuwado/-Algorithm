{
 "cells": [
  {
   "cell_type": "markdown",
   "metadata": {},
   "source": [
    "# Problem: Compute C_k_n"
   ]
  },
  {
   "cell_type": "markdown",
   "metadata": {},
   "source": [
    "## Description\n",
    "Given two positive integers k and n. Compute C(k,n) which is the number of ways to select k objects from a given set of n objects."
   ]
  },
  {
   "cell_type": "markdown",
   "metadata": {},
   "source": [
    "## Input\n",
    "- Line 1: two positive integers k and n (1 <= k,n <= 999)\n"
   ]
  },
  {
   "cell_type": "markdown",
   "metadata": {},
   "source": [
    "## Output \n",
    "- Write te value C(k,n) modulo 10^9 + 7."
   ]
  },
  {
   "cell_type": "markdown",
   "metadata": {},
   "source": [
    "## Example\n",
    "**input**  \n",
    "3 5  \n",
    "**output**  \n",
    "10"
   ]
  },
  {
   "cell_type": "markdown",
   "metadata": {},
   "source": [
    "### Tiếng việt:\n",
    "Cho hai số nguyên dương k và n. Tính C(k,n) là số cách để chọn k phần tử từ một tập hợp có n phần tử."
   ]
  },
  {
   "cell_type": "markdown",
   "metadata": {},
   "source": [
    "## Phương pháp giải: Sử dụng map và pair"
   ]
  },
  {
   "cell_type": "markdown",
   "metadata": {},
   "source": [
    "***Ý tưởng:*** Tạo map lưu trữ thông tin từng số điện thoại gồm\n",
    "- Số điện thoại\n",
    "- Cặp phần tử:\n",
    "    - Số lần gọi\n",
    "    - Số thời gian gọi\n",
    "    \n",
    "--> Với map, việc truy cập trực tiếp đến phần tử cần xét sẽ nhanh hơn (key và value)"
   ]
  }
 ],
 "metadata": {
  "language_info": {
   "name": "python"
  }
 },
 "nbformat": 4,
 "nbformat_minor": 2
}
